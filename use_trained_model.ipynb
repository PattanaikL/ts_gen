{
 "cells": [
  {
   "cell_type": "markdown",
   "metadata": {},
   "source": [
    "### This notebook walks you through how to use the pretrained model to generate your own transition state guesses. If using your own model and data, replace the model and data paths with your own"
   ]
  },
  {
   "cell_type": "markdown",
   "metadata": {},
   "source": [
    "Import the necessary packages"
   ]
  },
  {
   "cell_type": "code",
   "execution_count": 2,
   "metadata": {},
   "outputs": [],
   "source": [
    "from rdkit import Chem, Geometry\n",
    "from rdkit.Chem.Draw import IPythonConsole \n",
    "\n",
    "import tensorflow as tf\n",
    "from model.G2C import G2C\n",
    "\n",
    "import numpy as np\n",
    "import py3Dmol"
   ]
  },
  {
   "cell_type": "markdown",
   "metadata": {},
   "source": [
    "Read in the test data with rdkit. You can optionally change this to use your own file type (instead of sdf), as long as rdkit can read in the data without sanitization or hydrogen removal. Note that the reactants and prodcuts defined in the sdf **MUST** preserve atom ordering between them! Define the saved model path"
   ]
  },
  {
   "cell_type": "code",
   "execution_count": 3,
   "metadata": {},
   "outputs": [],
   "source": [
    "model_path = 'log/2layers_256hs_3its/best_model.ckpt'\n",
    "reactant_file = 'data/test_reactants.sdf'\n",
    "product_file = 'data/test_products.sdf'\n",
    "\n",
    "test_data = [Chem.ForwardSDMolSupplier(reactant_file, removeHs=False, sanitize=False),\n",
    "             Chem.ForwardSDMolSupplier(product_file, removeHs=False, sanitize=False)]\n",
    "test_data = [(x,y) for (x,y) in zip(test_data[0], test_data[1]) if (x,y)]"
   ]
  },
  {
   "cell_type": "markdown",
   "metadata": {},
   "source": [
    "Batch preparation code. You can use larger batch sizes if you have many predictions to speed up the predictions"
   ]
  },
  {
   "cell_type": "code",
   "execution_count": 4,
   "metadata": {},
   "outputs": [],
   "source": [
    "BATCH_SIZE = 1\n",
    "MAX_SIZE = max([x.GetNumAtoms() for x,y in test_data])\n",
    "elements = \"HCNO\"; num_elements = len(elements)\n",
    "\n",
    "def prepare_batch(batch_mols):\n",
    "\n",
    "    # Initialization\n",
    "    size = len(batch_mols)\n",
    "    V = np.zeros((size, MAX_SIZE, num_elements+1), dtype=np.float32)\n",
    "    E = np.zeros((size, MAX_SIZE, MAX_SIZE, 3), dtype=np.float32)\n",
    "    sizes = np.zeros(size, dtype=np.int32)\n",
    "    coordinates = np.zeros((size, MAX_SIZE, 3), dtype=np.float32)\n",
    "\n",
    "    # Build atom features\n",
    "    for bx in range(size):\n",
    "        reactant, product = batch_mols[bx]\n",
    "        N_atoms = reactant.GetNumAtoms()\n",
    "        sizes[bx] = int(N_atoms)\n",
    "\n",
    "        # Topological distances matrix\n",
    "        MAX_D = 10.\n",
    "        D = (Chem.GetDistanceMatrix(reactant) + Chem.GetDistanceMatrix(product)) / 2\n",
    "        D[D > MAX_D] = 10.\n",
    "\n",
    "        D_3D_rbf = np.exp(-((Chem.Get3DDistanceMatrix(reactant) + Chem.Get3DDistanceMatrix(product)) / 2))  # squared\n",
    "\n",
    "        for i in range(N_atoms):\n",
    "            # Edge features\n",
    "            for j in range(N_atoms):\n",
    "                E[bx, i, j, 2] = D_3D_rbf[i][j]\n",
    "                if D[i][j] == 1.:  # if stays bonded\n",
    "                    if reactant.GetBondBetweenAtoms(i, j).GetIsAromatic():\n",
    "                        E[bx, i, j, 0] = 1.\n",
    "                    E[bx, i, j, 1] = 1.\n",
    "\n",
    "            # Recover coordinates\n",
    "            # for k, mol_typ in enumerate([reactant, ts, product]):\n",
    "            pos = reactant.GetConformer().GetAtomPosition(i)\n",
    "            np.asarray([pos.x, pos.y, pos.z])\n",
    "            coordinates[bx, i, :] = np.asarray([pos.x, pos.y, pos.z])\n",
    "\n",
    "            # Node features\n",
    "            atom = reactant.GetAtomWithIdx(i)\n",
    "            e_ix = elements.index(atom.GetSymbol())\n",
    "            V[bx, i, e_ix] = 1.\n",
    "            V[bx, i, num_elements] = atom.GetAtomicNum() / 10.\n",
    "\n",
    "    batch_dict = {\n",
    "        \"nodes\": V,\n",
    "        \"edges\": E,\n",
    "        \"sizes\": sizes,\n",
    "        \"coordinates\": coordinates\n",
    "    }\n",
    "    return batch_dict, batch_mols\n",
    "\n",
    "\n",
    "def sample_batch():\n",
    "    batches = (len(test_data) - 1) // BATCH_SIZE + 1\n",
    "    for i in range(batches):\n",
    "        batch_mols = test_data[i*BATCH_SIZE:(i+1)*BATCH_SIZE]\n",
    "        yield prepare_batch(batch_mols)"
   ]
  },
  {
   "cell_type": "markdown",
   "metadata": {},
   "source": [
    "Initialize the model. The hyperparameters should match those of the previously trained model (pls ignore all the deprecation warnings :) )"
   ]
  },
  {
   "cell_type": "code",
   "execution_count": 5,
   "metadata": {},
   "outputs": [
    {
     "name": "stderr",
     "output_type": "stream",
     "text": [
      "WARNING: Logging before flag parsing goes to stderr.\n",
      "W1007 09:57:50.280781 140199825712512 deprecation_wrapper.py:119] From model/G2C.py:29: The name tf.variable_scope is deprecated. Please use tf.compat.v1.variable_scope instead.\n",
      "\n",
      "W1007 09:57:50.304795 140199825712512 deprecation_wrapper.py:119] From model/G2C.py:33: The name tf.placeholder is deprecated. Please use tf.compat.v1.placeholder instead.\n",
      "\n",
      "W1007 09:57:50.343178 140199825712512 deprecation.py:323] From model/GNN.py:87: dense (from tensorflow.python.layers.core) is deprecated and will be removed in a future version.\n",
      "Instructions for updating:\n",
      "Use keras.layers.dense instead.\n",
      "W1007 09:57:50.354985 140199825712512 deprecation.py:506] From /home/lagnajit/anaconda3/envs/ts_gen/lib/python2.7/site-packages/tensorflow/python/ops/init_ops.py:1251: calling __init__ (from tensorflow.python.ops.init_ops) with dtype is deprecated and will be removed in a future version.\n",
      "Instructions for updating:\n",
      "Call initializer instance with the dtype argument instead of passing it to the constructor\n",
      "W1007 09:57:50.886174 140199825712512 deprecation_wrapper.py:119] From model/GNN.py:28: The name tf.summary.image is deprecated. Please use tf.compat.v1.summary.image instead.\n",
      "\n",
      "W1007 09:57:51.931003 140199825712512 deprecation_wrapper.py:119] From model/G2C.py:84: The name tf.get_variable is deprecated. Please use tf.compat.v1.get_variable instead.\n",
      "\n",
      "W1007 09:57:51.958873 140199825712512 deprecation_wrapper.py:119] From model/G2C.py:102: The name tf.add_check_numerics_ops is deprecated. Please use tf.compat.v1.add_check_numerics_ops instead.\n",
      "\n",
      "W1007 09:57:52.260715 140199825712512 deprecation.py:323] From model/G2C.py:151: to_float (from tensorflow.python.ops.math_ops) is deprecated and will be removed in a future version.\n",
      "Instructions for updating:\n",
      "Use `tf.cast` instead.\n",
      "W1007 09:57:52.263387 140199825712512 deprecation.py:506] From model/G2C.py:153: calling reduce_sum_v1 (from tensorflow.python.ops.math_ops) with keep_dims is deprecated and will be removed in a future version.\n",
      "Instructions for updating:\n",
      "keep_dims is deprecated, use keepdims instead\n",
      "W1007 09:57:52.293221 140199825712512 deprecation_wrapper.py:119] From model/G2C.py:183: The name tf.random_normal is deprecated. Please use tf.random.normal instead.\n",
      "\n",
      "W1007 09:57:52.556955 140199825712512 deprecation_wrapper.py:119] From model/G2C.py:256: The name tf.debugging.is_finite is deprecated. Please use tf.math.is_finite instead.\n",
      "\n",
      "W1007 09:57:52.580108 140199825712512 deprecation.py:323] From model/G2C.py:260: Print (from tensorflow.python.ops.logging_ops) is deprecated and will be removed after 2018-08-20.\n",
      "Instructions for updating:\n",
      "Use tf.print instead of tf.Print. Note that tf.print returns a no-output operator that directly prints the output. Outside of defuns or eager mode, this operator will not be executed unless it is directly specified in session.run or used as a control dependency for other operators. This is only a concern in graph mode. Below is an example of how to ensure tf.print executes in graph mode:\n",
      "```python\n",
      "    sess = tf.compat.v1.Session()\n",
      "    with sess.as_default():\n",
      "        tensor = tf.range(10)\n",
      "        print_op = tf.print(tensor)\n",
      "        with tf.control_dependencies([print_op]):\n",
      "          out = tf.add(tensor, tensor)\n",
      "        sess.run(out)\n",
      "    ```\n",
      "Additionally, to use tf.print in python 2.7, users must make sure to import\n",
      "the following:\n",
      "\n",
      "  `from __future__ import print_function`\n",
      "\n",
      "W1007 09:57:52.654720 140199825712512 deprecation_wrapper.py:119] From model/G2C.py:120: The name tf.summary.scalar is deprecated. Please use tf.compat.v1.summary.scalar instead.\n",
      "\n",
      "W1007 09:57:52.679590 140199825712512 deprecation_wrapper.py:119] From model/G2C.py:128: The name tf.summary.histogram is deprecated. Please use tf.compat.v1.summary.histogram instead.\n",
      "\n",
      "W1007 09:57:52.695075 140199825712512 deprecation_wrapper.py:119] From model/G2C.py:137: The name tf.train.AdamOptimizer is deprecated. Please use tf.compat.v1.train.AdamOptimizer instead.\n",
      "\n",
      "W1007 09:57:52.986613 140199825712512 deprecation.py:323] From /home/lagnajit/anaconda3/envs/ts_gen/lib/python2.7/site-packages/tensorflow/python/ops/math_grad.py:1205: where (from tensorflow.python.ops.array_ops) is deprecated and will be removed in a future version.\n",
      "Instructions for updating:\n",
      "Use tf.where in 2.0, which has the same broadcast rule as np.where\n"
     ]
    }
   ],
   "source": [
    "model = G2C(\n",
    "      max_size=MAX_SIZE, node_features=num_elements+1, edge_features=3, layers=2, hidden_size=256, iterations=3\n",
    ")"
   ]
  },
  {
   "cell_type": "markdown",
   "metadata": {},
   "source": [
    "Load the trained model and predict transition state geometries!"
   ]
  },
  {
   "cell_type": "code",
   "execution_count": 6,
   "metadata": {},
   "outputs": [
    {
     "name": "stderr",
     "output_type": "stream",
     "text": [
      "W1007 09:57:57.568586 140199825712512 deprecation.py:323] From /home/lagnajit/anaconda3/envs/ts_gen/lib/python2.7/site-packages/tensorflow/python/training/saver.py:1276: checkpoint_exists (from tensorflow.python.training.checkpoint_management) is deprecated and will be removed in a future version.\n",
      "Instructions for updating:\n",
      "Use standard file APIs to check for files with this prefix.\n"
     ]
    },
    {
     "name": "stdout",
     "output_type": "stream",
     "text": [
      "Model loading...\n",
      "Model restored\n"
     ]
    }
   ],
   "source": [
    "# Launch session\n",
    "config = tf.ConfigProto(\n",
    "    allow_soft_placement=True,\n",
    "    log_device_placement=False\n",
    ")\n",
    "with tf.Session(config=config) as sess:\n",
    "    \n",
    "    # Initialization\n",
    "    print(\"Model loading...\")\n",
    "    saver = tf.train.Saver()\n",
    "    saver.restore(sess, model_path)\n",
    "    print(\"Model restored\")\n",
    "    \n",
    "    # Generator for test data\n",
    "    get_test_data = sample_batch()\n",
    "\n",
    "    X = np.empty([len(test_data), MAX_SIZE, 3])\n",
    "    \n",
    "    for step, data in enumerate(get_test_data):\n",
    "\n",
    "        batch_dict_test, batch_mols_test = data\n",
    "        feed_dict = {\n",
    "            model.placeholders[key]: batch_dict_test[key] for key in batch_dict_test\n",
    "        }\n",
    "        X[step*BATCH_SIZE:(step+1)*BATCH_SIZE, :, :] = sess.run([model.tensors[\"X\"]], feed_dict=feed_dict)[0]"
   ]
  },
  {
   "cell_type": "markdown",
   "metadata": {},
   "source": [
    "Convert geometries into rdkit mol objects and save the geometries as an sdf"
   ]
  },
  {
   "cell_type": "code",
   "execution_count": 7,
   "metadata": {},
   "outputs": [],
   "source": [
    "ts_mols = []\n",
    "for bx in range(X.shape[0]):\n",
    "    \n",
    "    # Make copy of reactant\n",
    "    mol_target = test_data[bx][0]\n",
    "    mol = Chem.Mol(mol_target)\n",
    "\n",
    "    for i in range(mol.GetNumAtoms()):\n",
    "        x = X[bx, i, :].tolist()\n",
    "        mol.GetConformer().SetAtomPosition(\n",
    "            i, Geometry.Point3D(x[0], x[1], x[2])\n",
    "        )\n",
    "    ts_mols.append(mol)\n",
    "\n",
    "\n",
    "model_ts_file = 'data/model_ts.sdf'\n",
    "ts_writer = Chem.SDWriter(model_ts_file)\n",
    "for i in range(len(ts_mols)):\n",
    "    ts_writer.write(ts_mols[i])"
   ]
  },
  {
   "cell_type": "markdown",
   "metadata": {},
   "source": [
    "Visualize the results. Change n to see different combinations of reactants, transition states, and products. Note that, for the TS, rdkit will add bonds based on the reactant. We'll clean this to only include common bonds between reactants and products"
   ]
  },
  {
   "cell_type": "code",
   "execution_count": 8,
   "metadata": {},
   "outputs": [],
   "source": [
    "def clean_ts(mols):\n",
    "    \n",
    "    r_mol, ts_mol, p_mol = mols\n",
    "    r_bonds = [(bond.GetBeginAtomIdx(), bond.GetEndAtomIdx()) for bond in r_mol.GetBonds()]\n",
    "    r_bonds = [tuple(sorted(b)) for b in r_bonds]\n",
    "    p_bonds = [(bond.GetBeginAtomIdx(), bond.GetEndAtomIdx()) for bond in p_mol.GetBonds()]\n",
    "    p_bonds = [tuple(sorted(b)) for b in p_bonds]\n",
    "    common_bonds = list(set(r_bonds) & set(p_bonds))\n",
    "    \n",
    "    emol = Chem.EditableMol(ts_mol)\n",
    "    for bond in ts_mol.GetBonds():\n",
    "        bond_idxs = tuple(sorted((bond.GetBeginAtomIdx(), bond.GetEndAtomIdx())))\n",
    "        if bond_idxs not in common_bonds:\n",
    "            emol.RemoveBond(bond_idxs[0], bond_idxs[1])\n",
    "            emol.AddBond(bond_idxs[0], bond_idxs[1])\n",
    "    return r_mol, emol.GetMol(), p_mol\n",
    "\n",
    "\n",
    "def show_mol(mol, view, grid):\n",
    "    mb = Chem.MolToMolBlock(mol)\n",
    "    view.removeAllModels(viewer=grid)\n",
    "    view.addModel(mb,'sdf', viewer=grid)\n",
    "    view.setStyle({'model':0},{'stick': {}}, viewer=grid)\n",
    "    view.zoomTo(viewer=grid)\n",
    "    return view"
   ]
  },
  {
   "cell_type": "code",
   "execution_count": 9,
   "metadata": {},
   "outputs": [
    {
     "data": {
      "application/3dmoljs_load.v0": "<div id=\"3dmolviewer_160207913664\"  style=\"position: relative; width: 960px; height: 500px\">\n        <p id=\"3dmolwarning_160207913664\" style=\"background-color:#ffcccc;color:black\">You appear to be running in JupyterLab (or JavaScript failed to load for some other reason).  You need to install the 3dmol extension: <br>\n        <tt>jupyter labextension install jupyterlab_3dmol</tt></p>\n        </div>\n<script>\n\nvar loadScriptAsync = function(uri){\n  return new Promise((resolve, reject) => {\n    var tag = document.createElement('script');\n    tag.src = uri;\n    tag.async = true;\n    tag.onload = () => {\n      resolve();\n    };\n  var firstScriptTag = document.getElementsByTagName('script')[0];\n  firstScriptTag.parentNode.insertBefore(tag, firstScriptTag);\n});\n};\n\nif(typeof $3Dmolpromise === 'undefined') {\n$3Dmolpromise = null;\n  $3Dmolpromise = loadScriptAsync('https://3dmol.csb.pitt.edu/build/3Dmol.js');\n}\n\nvar viewer_160207913664 = null;\nvar warn = document.getElementById(\"3dmolwarning_160207913664\");\nif(warn) {\n    warn.parentNode.removeChild(warn);\n}\n$3Dmolpromise.then(function() {\nvar viewergrid_160207913664 = null;\nviewergrid_160207913664 = $3Dmol.createViewerGrid($(\"#3dmolviewer_160207913664\"),{rows: 1, cols: 3, control_all: false},{backgroundColor:\"white\"});\nviewer_160207913664 = viewergrid_160207913664[0][0];\n\tviewergrid_160207913664[0][0].removeAllModels();\n\tviewergrid_160207913664[0][0].addModel(\"[C:1]([O:2][C:3]([C:4](=[O:5])[H:11])([H:9])[H:10])([H:6])([H:7])[H:8]\\n     RDKit          3D\\n\\n 11 10  0  0  0  0  0  0  0  0999 V2000\\n   -1.3284    0.7074    0.2890 C   0  0  0  0  0  0  0  0  0  0  0  0\\n   -0.9007   -0.4391   -0.4086 O   0  0  0  0  0  0  0  0  0  0  0  0\\n    0.3528   -0.8952    0.0115 C   0  0  0  0  0  0  0  0  0  0  0  0\\n    1.4927   -0.0534   -0.5283 C   0  0  0  0  0  0  0  0  0  0  0  0\\n    2.6074   -0.0833   -0.0898 O   0  0  0  0  0  0  0  0  0  0  0  0\\n   -1.4378    0.5000    1.3607 H   0  0  0  0  0  0  0  0  0  0  0  0\\n   -0.6317    1.5467    0.1666 H   0  0  0  0  0  0  0  0  0  0  0  0\\n   -2.2956    0.9940   -0.1198 H   0  0  0  0  0  0  0  0  0  0  0  0\\n    0.4822   -1.9058   -0.3877 H   0  0  0  0  0  0  0  0  0  0  0  0\\n    0.4361   -0.9551    1.1046 H   0  0  0  0  0  0  0  0  0  0  0  0\\n    1.2231    0.5837   -1.3982 H   0  0  0  0  0  0  0  0  0  0  0  0\\n  1  6  1  0\\n  2  3  1  0\\n  2  1  1  0\\n  3 10  1  0\\n  4  5  2  0\\n  4  3  1  0\\n  7  1  1  0\\n  8  1  1  0\\n  9  3  1  0\\n 11  4  1  0\\nM  END\\n\",\"sdf\");\n\tviewergrid_160207913664[0][0].setStyle({\"model\": 0},{\"stick\": {}});\n\tviewergrid_160207913664[0][0].zoomTo();\n\tviewergrid_160207913664[0][1].removeAllModels();\n\tviewergrid_160207913664[0][1].addModel(\"[C:1]([O:2][C:3]([C:4](=[O:5])[H:11])([H:9])[H:10])([H:6])([H:7])[H:8]\\n     RDKit          3D\\n\\n 11 10  0  0  0  0  0  0  0  0999 V2000\\n   -0.5259    1.0619   -0.2321 C   0  0  0  0  0  0  0  0  0  0  0  0\\n   -0.9769   -0.2074    0.8580 O   0  0  0  0  0  0  0  0  0  0  0  0\\n    0.3142   -0.7604    0.6965 C   0  0  0  0  0  0  0  0  0  0  0  0\\n    0.6649   -0.2509   -0.7434 C   0  0  0  0  0  0  0  0  0  0  0  0\\n    1.8830   -0.0655   -1.0728 O   0  0  0  0  0  0  0  0  0  0  0  0\\n   -0.0563    1.7456    0.4723 H   0  0  0  0  0  0  0  0  0  0  0  0\\n   -1.4645    0.0505    0.1715 H   0  0  0  0  0  0  0  0  0  0  0  0\\n   -1.2156    1.4714   -0.8689 H   0  0  0  0  0  0  0  0  0  0  0  0\\n    0.2872   -1.8603    0.8293 H   0  0  0  0  0  0  0  0  0  0  0  0\\n    0.9988   -0.2997    1.4230 H   0  0  0  0  0  0  0  0  0  0  0  0\\n    0.0911   -0.8851   -1.5334 H   0  0  0  0  0  0  0  0  0  0  0  0\\n  1  6  1  0\\n  2  3  1  0\\n  3 10  1  0\\n  4  5  2  0\\n  4  3  1  0\\n  8  1  1  0\\n  9  3  1  0\\n 11  4  1  0\\n  1  2  0  0\\n  1  7  0  0\\nM  END\\n\",\"sdf\");\n\tviewergrid_160207913664[0][1].setStyle({\"model\": 0},{\"stick\": {}});\n\tviewergrid_160207913664[0][1].zoomTo();\n\tviewergrid_160207913664[0][2].removeAllModels();\n\tviewergrid_160207913664[0][2].addModel(\"[C+:1]([C@:4]([C:3]([O:2][H:7])([H:9])[H:10])([O-:5])[H:11])([H:6])[H:8]\\n     RDKit          3D\\n\\n 11 10  0  0  1  0  0  0  0  0999 V2000\\n   -0.6059    0.7528    0.3789 C   0  0  0  0  0  3  0  0  0  0  0  0\\n   -1.0821   -0.5691   -0.2495 O   0  0  0  0  0  0  0  0  0  0  0  0\\n    0.3733   -1.0663   -0.1912 C   0  0  0  0  0  0  0  0  0  0  0  0\\n    0.9039    0.4200    0.0062 C   0  0  2  0  0  0  0  0  0  0  0  0\\n    1.8239    0.6494    0.8561 O   0  0  0  0  0  1  0  0  0  0  0  0\\n   -0.8044    0.6368    1.4419 H   0  0  0  0  0  0  0  0  0  0  0  0\\n   -1.3151   -0.4054   -1.1713 H   0  0  0  0  0  0  0  0  0  0  0  0\\n   -1.1576    1.5791   -0.0683 H   0  0  0  0  0  0  0  0  0  0  0  0\\n    0.5838   -1.6582   -1.0815 H   0  0  0  0  0  0  0  0  0  0  0  0\\n    0.4257   -1.6489    0.7257 H   0  0  0  0  0  0  0  0  0  0  0  0\\n    1.0368    0.8210   -1.0435 H   0  0  0  0  0  0  0  0  0  0  0  0\\n  1  6  1  0\\n  2  3  1  0\\n  3  4  1  0\\n  3 10  1  0\\n  4 11  1  6\\n  4  1  1  0\\n  4  5  1  0\\n  7  2  1  0\\n  8  1  1  0\\n  9  3  1  0\\nM  RAD  2   1   2   5   2\\nM  END\\n\",\"sdf\");\n\tviewergrid_160207913664[0][2].setStyle({\"model\": 0},{\"stick\": {}});\n\tviewergrid_160207913664[0][2].zoomTo();\n\tviewergrid_160207913664[0][0].render();\n\tviewergrid_160207913664[0][1].render();\n\tviewergrid_160207913664[0][2].render();\nviewergrid_160207913664[0][2].render();\nviewergrid_160207913664[0][1].render();\nviewergrid_160207913664[0][0].render();\n});\n</script>",
      "text/html": [
       "<div id=\"3dmolviewer_160207913664\"  style=\"position: relative; width: 960px; height: 500px\">\n",
       "        <p id=\"3dmolwarning_160207913664\" style=\"background-color:#ffcccc;color:black\">You appear to be running in JupyterLab (or JavaScript failed to load for some other reason).  You need to install the 3dmol extension: <br>\n",
       "        <tt>jupyter labextension install jupyterlab_3dmol</tt></p>\n",
       "        </div>\n",
       "<script>\n",
       "\n",
       "var loadScriptAsync = function(uri){\n",
       "  return new Promise((resolve, reject) => {\n",
       "    var tag = document.createElement('script');\n",
       "    tag.src = uri;\n",
       "    tag.async = true;\n",
       "    tag.onload = () => {\n",
       "      resolve();\n",
       "    };\n",
       "  var firstScriptTag = document.getElementsByTagName('script')[0];\n",
       "  firstScriptTag.parentNode.insertBefore(tag, firstScriptTag);\n",
       "});\n",
       "};\n",
       "\n",
       "if(typeof $3Dmolpromise === 'undefined') {\n",
       "$3Dmolpromise = null;\n",
       "  $3Dmolpromise = loadScriptAsync('https://3dmol.csb.pitt.edu/build/3Dmol.js');\n",
       "}\n",
       "\n",
       "var viewer_160207913664 = null;\n",
       "var warn = document.getElementById(\"3dmolwarning_160207913664\");\n",
       "if(warn) {\n",
       "    warn.parentNode.removeChild(warn);\n",
       "}\n",
       "$3Dmolpromise.then(function() {\n",
       "var viewergrid_160207913664 = null;\n",
       "viewergrid_160207913664 = $3Dmol.createViewerGrid($(\"#3dmolviewer_160207913664\"),{rows: 1, cols: 3, control_all: false},{backgroundColor:\"white\"});\n",
       "viewer_160207913664 = viewergrid_160207913664[0][0];\n",
       "\tviewergrid_160207913664[0][0].removeAllModels();\n",
       "\tviewergrid_160207913664[0][0].addModel(\"[C:1]([O:2][C:3]([C:4](=[O:5])[H:11])([H:9])[H:10])([H:6])([H:7])[H:8]\\n     RDKit          3D\\n\\n 11 10  0  0  0  0  0  0  0  0999 V2000\\n   -1.3284    0.7074    0.2890 C   0  0  0  0  0  0  0  0  0  0  0  0\\n   -0.9007   -0.4391   -0.4086 O   0  0  0  0  0  0  0  0  0  0  0  0\\n    0.3528   -0.8952    0.0115 C   0  0  0  0  0  0  0  0  0  0  0  0\\n    1.4927   -0.0534   -0.5283 C   0  0  0  0  0  0  0  0  0  0  0  0\\n    2.6074   -0.0833   -0.0898 O   0  0  0  0  0  0  0  0  0  0  0  0\\n   -1.4378    0.5000    1.3607 H   0  0  0  0  0  0  0  0  0  0  0  0\\n   -0.6317    1.5467    0.1666 H   0  0  0  0  0  0  0  0  0  0  0  0\\n   -2.2956    0.9940   -0.1198 H   0  0  0  0  0  0  0  0  0  0  0  0\\n    0.4822   -1.9058   -0.3877 H   0  0  0  0  0  0  0  0  0  0  0  0\\n    0.4361   -0.9551    1.1046 H   0  0  0  0  0  0  0  0  0  0  0  0\\n    1.2231    0.5837   -1.3982 H   0  0  0  0  0  0  0  0  0  0  0  0\\n  1  6  1  0\\n  2  3  1  0\\n  2  1  1  0\\n  3 10  1  0\\n  4  5  2  0\\n  4  3  1  0\\n  7  1  1  0\\n  8  1  1  0\\n  9  3  1  0\\n 11  4  1  0\\nM  END\\n\",\"sdf\");\n",
       "\tviewergrid_160207913664[0][0].setStyle({\"model\": 0},{\"stick\": {}});\n",
       "\tviewergrid_160207913664[0][0].zoomTo();\n",
       "\tviewergrid_160207913664[0][1].removeAllModels();\n",
       "\tviewergrid_160207913664[0][1].addModel(\"[C:1]([O:2][C:3]([C:4](=[O:5])[H:11])([H:9])[H:10])([H:6])([H:7])[H:8]\\n     RDKit          3D\\n\\n 11 10  0  0  0  0  0  0  0  0999 V2000\\n   -0.5259    1.0619   -0.2321 C   0  0  0  0  0  0  0  0  0  0  0  0\\n   -0.9769   -0.2074    0.8580 O   0  0  0  0  0  0  0  0  0  0  0  0\\n    0.3142   -0.7604    0.6965 C   0  0  0  0  0  0  0  0  0  0  0  0\\n    0.6649   -0.2509   -0.7434 C   0  0  0  0  0  0  0  0  0  0  0  0\\n    1.8830   -0.0655   -1.0728 O   0  0  0  0  0  0  0  0  0  0  0  0\\n   -0.0563    1.7456    0.4723 H   0  0  0  0  0  0  0  0  0  0  0  0\\n   -1.4645    0.0505    0.1715 H   0  0  0  0  0  0  0  0  0  0  0  0\\n   -1.2156    1.4714   -0.8689 H   0  0  0  0  0  0  0  0  0  0  0  0\\n    0.2872   -1.8603    0.8293 H   0  0  0  0  0  0  0  0  0  0  0  0\\n    0.9988   -0.2997    1.4230 H   0  0  0  0  0  0  0  0  0  0  0  0\\n    0.0911   -0.8851   -1.5334 H   0  0  0  0  0  0  0  0  0  0  0  0\\n  1  6  1  0\\n  2  3  1  0\\n  3 10  1  0\\n  4  5  2  0\\n  4  3  1  0\\n  8  1  1  0\\n  9  3  1  0\\n 11  4  1  0\\n  1  2  0  0\\n  1  7  0  0\\nM  END\\n\",\"sdf\");\n",
       "\tviewergrid_160207913664[0][1].setStyle({\"model\": 0},{\"stick\": {}});\n",
       "\tviewergrid_160207913664[0][1].zoomTo();\n",
       "\tviewergrid_160207913664[0][2].removeAllModels();\n",
       "\tviewergrid_160207913664[0][2].addModel(\"[C+:1]([C@:4]([C:3]([O:2][H:7])([H:9])[H:10])([O-:5])[H:11])([H:6])[H:8]\\n     RDKit          3D\\n\\n 11 10  0  0  1  0  0  0  0  0999 V2000\\n   -0.6059    0.7528    0.3789 C   0  0  0  0  0  3  0  0  0  0  0  0\\n   -1.0821   -0.5691   -0.2495 O   0  0  0  0  0  0  0  0  0  0  0  0\\n    0.3733   -1.0663   -0.1912 C   0  0  0  0  0  0  0  0  0  0  0  0\\n    0.9039    0.4200    0.0062 C   0  0  2  0  0  0  0  0  0  0  0  0\\n    1.8239    0.6494    0.8561 O   0  0  0  0  0  1  0  0  0  0  0  0\\n   -0.8044    0.6368    1.4419 H   0  0  0  0  0  0  0  0  0  0  0  0\\n   -1.3151   -0.4054   -1.1713 H   0  0  0  0  0  0  0  0  0  0  0  0\\n   -1.1576    1.5791   -0.0683 H   0  0  0  0  0  0  0  0  0  0  0  0\\n    0.5838   -1.6582   -1.0815 H   0  0  0  0  0  0  0  0  0  0  0  0\\n    0.4257   -1.6489    0.7257 H   0  0  0  0  0  0  0  0  0  0  0  0\\n    1.0368    0.8210   -1.0435 H   0  0  0  0  0  0  0  0  0  0  0  0\\n  1  6  1  0\\n  2  3  1  0\\n  3  4  1  0\\n  3 10  1  0\\n  4 11  1  6\\n  4  1  1  0\\n  4  5  1  0\\n  7  2  1  0\\n  8  1  1  0\\n  9  3  1  0\\nM  RAD  2   1   2   5   2\\nM  END\\n\",\"sdf\");\n",
       "\tviewergrid_160207913664[0][2].setStyle({\"model\": 0},{\"stick\": {}});\n",
       "\tviewergrid_160207913664[0][2].zoomTo();\n",
       "\tviewergrid_160207913664[0][0].render();\n",
       "\tviewergrid_160207913664[0][1].render();\n",
       "\tviewergrid_160207913664[0][2].render();\n",
       "viewergrid_160207913664[0][2].render();\n",
       "viewergrid_160207913664[0][1].render();\n",
       "viewergrid_160207913664[0][0].render();\n",
       "});\n",
       "</script>"
      ]
     },
     "metadata": {},
     "output_type": "display_data"
    },
    {
     "data": {
      "text/plain": [
       "<py3Dmol.view at 0x7f828136f2d0>"
      ]
     },
     "execution_count": 9,
     "metadata": {},
     "output_type": "execute_result"
    }
   ],
   "source": [
    "n=1\n",
    "mols = [test_data[n][0], ts_mols[n], test_data[n][1]]\n",
    "view_mols = clean_ts(mols)\n",
    "\n",
    "view = py3Dmol.view(width=960, height=500, linked=False, viewergrid=(1,3))\n",
    "for i in range(3):\n",
    "    show_mol(view_mols[i], view, grid=(0, i))\n",
    "view.render()"
   ]
  },
  {
   "cell_type": "code",
   "execution_count": null,
   "metadata": {},
   "outputs": [],
   "source": []
  }
 ],
 "metadata": {
  "kernelspec": {
   "display_name": "Python 2",
   "language": "python",
   "name": "python2"
  },
  "language_info": {
   "codemirror_mode": {
    "name": "ipython",
    "version": 2
   },
   "file_extension": ".py",
   "mimetype": "text/x-python",
   "name": "python",
   "nbconvert_exporter": "python",
   "pygments_lexer": "ipython2",
   "version": "2.7.16"
  }
 },
 "nbformat": 4,
 "nbformat_minor": 2
}
