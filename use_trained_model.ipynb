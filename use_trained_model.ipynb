{
 "cells": [
  {
   "cell_type": "markdown",
   "metadata": {},
   "source": [
    "### This notebook walks you through how to use the pretrained model to generate your own transition state guesses. If using your own model and data, replace the model and data paths with your own"
   ]
  },
  {
   "cell_type": "markdown",
   "metadata": {},
   "source": [
    "Import the necessary packages"
   ]
  },
  {
   "cell_type": "code",
   "execution_count": 1,
   "metadata": {},
   "outputs": [],
   "source": [
    "from rdkit import Chem, Geometry\n",
    "from rdkit.Chem.Draw import IPythonConsole \n",
    "\n",
    "import tensorflow as tf\n",
    "from model.G2C import G2C\n",
    "\n",
    "import numpy as np\n",
    "import py3Dmol"
   ]
  },
  {
   "cell_type": "markdown",
   "metadata": {},
   "source": [
    "Read in the test data with rdkit. You can optionally change this to use your own file type (instead of sdf), as long as rdkit can read in the data without sanitization or hydrogen removal. Note that the reactants and prodcuts defined in the sdf **MUST** preserve atom ordering between them! Define the saved model path"
   ]
  },
  {
   "cell_type": "code",
   "execution_count": 2,
   "metadata": {},
   "outputs": [],
   "source": [
    "model_path = 'log/2layers_256hs_3its/best_model.ckpt'\n",
    "reactant_file = 'data/test_reactants.sdf'\n",
    "product_file = 'data/test_products.sdf'\n",
    "\n",
    "test_data = [Chem.ForwardSDMolSupplier(reactant_file, removeHs=False, sanitize=False),\n",
    "             Chem.ForwardSDMolSupplier(product_file, removeHs=False, sanitize=False)]\n",
    "test_data = [(x,y) for (x,y) in zip(test_data[0], test_data[1]) if (x,y)]"
   ]
  },
  {
   "cell_type": "markdown",
   "metadata": {},
   "source": [
    "Batch preparation code. You can use larger batch sizes if you have many predictions to speed up the predictions"
   ]
  },
  {
   "cell_type": "code",
   "execution_count": 3,
   "metadata": {},
   "outputs": [],
   "source": [
    "BATCH_SIZE = 1\n",
    "MAX_SIZE = max([x.GetNumAtoms() for x,y in test_data])\n",
    "elements = \"HCNO\"; num_elements = len(elements)\n",
    "\n",
    "def prepare_batch(batch_mols):\n",
    "\n",
    "    # Initialization\n",
    "    size = len(batch_mols)\n",
    "    V = np.zeros((size, MAX_SIZE, num_elements+1), dtype=np.float32)\n",
    "    E = np.zeros((size, MAX_SIZE, MAX_SIZE, 3), dtype=np.float32)\n",
    "    sizes = np.zeros(size, dtype=np.int32)\n",
    "    coordinates = np.zeros((size, MAX_SIZE, 3), dtype=np.float32)\n",
    "\n",
    "    # Build atom features\n",
    "    for bx in range(size):\n",
    "        reactant, product = batch_mols[bx]\n",
    "        N_atoms = reactant.GetNumAtoms()\n",
    "        sizes[bx] = int(N_atoms)\n",
    "\n",
    "        # Topological distances matrix\n",
    "        MAX_D = 10.\n",
    "        D = (Chem.GetDistanceMatrix(reactant) + Chem.GetDistanceMatrix(product)) / 2\n",
    "        D[D > MAX_D] = 10.\n",
    "\n",
    "        D_3D_rbf = np.exp(-((Chem.Get3DDistanceMatrix(reactant) + Chem.Get3DDistanceMatrix(product)) / 2))  # squared\n",
    "\n",
    "        for i in range(N_atoms):\n",
    "            # Edge features\n",
    "            for j in range(N_atoms):\n",
    "                E[bx, i, j, 2] = D_3D_rbf[i][j]\n",
    "                if D[i][j] == 1.:  # if stays bonded\n",
    "                    if reactant.GetBondBetweenAtoms(i, j).GetIsAromatic():\n",
    "                        E[bx, i, j, 0] = 1.\n",
    "                    E[bx, i, j, 1] = 1.\n",
    "\n",
    "            # Recover coordinates\n",
    "            # for k, mol_typ in enumerate([reactant, ts, product]):\n",
    "            pos = reactant.GetConformer().GetAtomPosition(i)\n",
    "            np.asarray([pos.x, pos.y, pos.z])\n",
    "            coordinates[bx, i, :] = np.asarray([pos.x, pos.y, pos.z])\n",
    "\n",
    "            # Node features\n",
    "            atom = reactant.GetAtomWithIdx(i)\n",
    "            e_ix = elements.index(atom.GetSymbol())\n",
    "            V[bx, i, e_ix] = 1.\n",
    "            V[bx, i, num_elements] = atom.GetAtomicNum() / 10.\n",
    "\n",
    "    batch_dict = {\n",
    "        \"nodes\": V,\n",
    "        \"edges\": E,\n",
    "        \"sizes\": sizes,\n",
    "        \"coordinates\": coordinates\n",
    "    }\n",
    "    return batch_dict, batch_mols\n",
    "\n",
    "\n",
    "def sample_batch():\n",
    "    batches = (len(test_data) - 1) // BATCH_SIZE + 1\n",
    "    for i in range(batches):\n",
    "        batch_mols = test_data[i*BATCH_SIZE:(i+1)*BATCH_SIZE]\n",
    "        yield prepare_batch(batch_mols)"
   ]
  },
  {
   "cell_type": "markdown",
   "metadata": {},
   "source": [
    "Initialize the model. The hyperparameters should match those of the previously trained model (pls ignore all the deprecation warnings :) )"
   ]
  },
  {
   "cell_type": "code",
   "execution_count": 4,
   "metadata": {
    "collapsed": true
   },
   "outputs": [
    {
     "name": "stderr",
     "output_type": "stream",
     "text": [
      "WARNING: Logging before flag parsing goes to stderr.\n",
      "W1001 10:38:14.605103 139938213057920 deprecation_wrapper.py:119] From model/G2C.py:29: The name tf.variable_scope is deprecated. Please use tf.compat.v1.variable_scope instead.\n",
      "\n",
      "W1001 10:38:14.637890 139938213057920 deprecation_wrapper.py:119] From model/G2C.py:33: The name tf.placeholder is deprecated. Please use tf.compat.v1.placeholder instead.\n",
      "\n",
      "W1001 10:38:14.669681 139938213057920 deprecation.py:323] From model/GNN.py:87: dense (from tensorflow.python.layers.core) is deprecated and will be removed in a future version.\n",
      "Instructions for updating:\n",
      "Use keras.layers.dense instead.\n",
      "W1001 10:38:14.679109 139938213057920 deprecation.py:506] From /home/lagnajit/anaconda3/envs/ts_gen/lib/python2.7/site-packages/tensorflow/python/ops/init_ops.py:1251: calling __init__ (from tensorflow.python.ops.init_ops) with dtype is deprecated and will be removed in a future version.\n",
      "Instructions for updating:\n",
      "Call initializer instance with the dtype argument instead of passing it to the constructor\n",
      "W1001 10:38:15.299365 139938213057920 deprecation_wrapper.py:119] From model/GNN.py:28: The name tf.summary.image is deprecated. Please use tf.compat.v1.summary.image instead.\n",
      "\n",
      "W1001 10:38:16.417167 139938213057920 deprecation_wrapper.py:119] From model/G2C.py:84: The name tf.get_variable is deprecated. Please use tf.compat.v1.get_variable instead.\n",
      "\n",
      "W1001 10:38:16.446733 139938213057920 deprecation_wrapper.py:119] From model/G2C.py:102: The name tf.add_check_numerics_ops is deprecated. Please use tf.compat.v1.add_check_numerics_ops instead.\n",
      "\n",
      "W1001 10:38:16.767056 139938213057920 deprecation.py:323] From model/G2C.py:151: to_float (from tensorflow.python.ops.math_ops) is deprecated and will be removed in a future version.\n",
      "Instructions for updating:\n",
      "Use `tf.cast` instead.\n",
      "W1001 10:38:16.770234 139938213057920 deprecation.py:506] From model/G2C.py:153: calling reduce_sum_v1 (from tensorflow.python.ops.math_ops) with keep_dims is deprecated and will be removed in a future version.\n",
      "Instructions for updating:\n",
      "keep_dims is deprecated, use keepdims instead\n",
      "W1001 10:38:16.799851 139938213057920 deprecation_wrapper.py:119] From model/G2C.py:183: The name tf.random_normal is deprecated. Please use tf.random.normal instead.\n",
      "\n",
      "W1001 10:38:17.161047 139938213057920 deprecation_wrapper.py:119] From model/G2C.py:256: The name tf.debugging.is_finite is deprecated. Please use tf.math.is_finite instead.\n",
      "\n",
      "W1001 10:38:17.188220 139938213057920 deprecation.py:323] From model/G2C.py:260: Print (from tensorflow.python.ops.logging_ops) is deprecated and will be removed after 2018-08-20.\n",
      "Instructions for updating:\n",
      "Use tf.print instead of tf.Print. Note that tf.print returns a no-output operator that directly prints the output. Outside of defuns or eager mode, this operator will not be executed unless it is directly specified in session.run or used as a control dependency for other operators. This is only a concern in graph mode. Below is an example of how to ensure tf.print executes in graph mode:\n",
      "```python\n",
      "    sess = tf.compat.v1.Session()\n",
      "    with sess.as_default():\n",
      "        tensor = tf.range(10)\n",
      "        print_op = tf.print(tensor)\n",
      "        with tf.control_dependencies([print_op]):\n",
      "          out = tf.add(tensor, tensor)\n",
      "        sess.run(out)\n",
      "    ```\n",
      "Additionally, to use tf.print in python 2.7, users must make sure to import\n",
      "the following:\n",
      "\n",
      "  `from __future__ import print_function`\n",
      "\n",
      "W1001 10:38:17.267013 139938213057920 deprecation_wrapper.py:119] From model/G2C.py:120: The name tf.summary.scalar is deprecated. Please use tf.compat.v1.summary.scalar instead.\n",
      "\n",
      "W1001 10:38:17.302407 139938213057920 deprecation_wrapper.py:119] From model/G2C.py:128: The name tf.summary.histogram is deprecated. Please use tf.compat.v1.summary.histogram instead.\n",
      "\n",
      "W1001 10:38:17.314292 139938213057920 deprecation_wrapper.py:119] From model/G2C.py:137: The name tf.train.AdamOptimizer is deprecated. Please use tf.compat.v1.train.AdamOptimizer instead.\n",
      "\n",
      "W1001 10:38:17.607312 139938213057920 deprecation.py:323] From /home/lagnajit/anaconda3/envs/ts_gen/lib/python2.7/site-packages/tensorflow/python/ops/math_grad.py:1205: where (from tensorflow.python.ops.array_ops) is deprecated and will be removed in a future version.\n",
      "Instructions for updating:\n",
      "Use tf.where in 2.0, which has the same broadcast rule as np.where\n"
     ]
    }
   ],
   "source": [
    "model = G2C(\n",
    "      max_size=MAX_SIZE, node_features=num_elements+1, edge_features=3, layers=2, hidden_size=256, iterations=3\n",
    ")"
   ]
  },
  {
   "cell_type": "markdown",
   "metadata": {},
   "source": [
    "Load the trained model and predict transition state geometries!"
   ]
  },
  {
   "cell_type": "code",
   "execution_count": 5,
   "metadata": {},
   "outputs": [
    {
     "name": "stdout",
     "output_type": "stream",
     "text": [
      "Model loading...\n"
     ]
    },
    {
     "name": "stderr",
     "output_type": "stream",
     "text": [
      "W1001 10:38:22.839108 139938213057920 deprecation.py:323] From /home/lagnajit/anaconda3/envs/ts_gen/lib/python2.7/site-packages/tensorflow/python/training/saver.py:1276: checkpoint_exists (from tensorflow.python.training.checkpoint_management) is deprecated and will be removed in a future version.\n",
      "Instructions for updating:\n",
      "Use standard file APIs to check for files with this prefix.\n"
     ]
    },
    {
     "name": "stdout",
     "output_type": "stream",
     "text": [
      "Model restored\n"
     ]
    }
   ],
   "source": [
    "# Launch session\n",
    "config = tf.ConfigProto(\n",
    "    allow_soft_placement=True,\n",
    "    log_device_placement=False\n",
    ")\n",
    "with tf.Session(config=config) as sess:\n",
    "    \n",
    "    # Initialization\n",
    "    print(\"Model loading...\")\n",
    "    saver = tf.train.Saver()\n",
    "    saver.restore(sess, model_path)\n",
    "    print(\"Model restored\")\n",
    "    \n",
    "    # Generator for test data\n",
    "    get_test_data = sample_batch()\n",
    "\n",
    "    X = np.empty([len(test_data), MAX_SIZE, 3])\n",
    "    \n",
    "    for step, data in enumerate(get_test_data):\n",
    "\n",
    "        batch_dict_test, batch_mols_test = data\n",
    "        feed_dict = {\n",
    "            model.placeholders[key]: batch_dict_test[key] for key in batch_dict_test\n",
    "        }\n",
    "        X[step*BATCH_SIZE:(step+1)*BATCH_SIZE, :, :] = sess.run([model.tensors[\"X\"]], feed_dict=feed_dict)[0]"
   ]
  },
  {
   "cell_type": "markdown",
   "metadata": {},
   "source": [
    "Convert geometries into rdkit mol objects and save the geometries as an sdf"
   ]
  },
  {
   "cell_type": "code",
   "execution_count": 7,
   "metadata": {},
   "outputs": [],
   "source": [
    "ts_mols = []\n",
    "for bx in range(X.shape[0]):\n",
    "    \n",
    "    # Make copy of reactant\n",
    "    mol_target = test_data[bx][0]\n",
    "    mol = Chem.Mol(mol_target)\n",
    "\n",
    "    for i in range(mol.GetNumAtoms()):\n",
    "        x = X[bx, i, :].tolist()\n",
    "        mol.GetConformer().SetAtomPosition(\n",
    "            i, Geometry.Point3D(x[0], x[1], x[2])\n",
    "        )\n",
    "    ts_mols.append(mol)\n",
    "\n",
    "\n",
    "model_ts_file = 'data/model_ts.sdf'\n",
    "ts_writer = Chem.SDWriter(model_ts_file)\n",
    "for i in range(len(ts_mols)):\n",
    "    ts_writer.write(ts_mols[i])"
   ]
  },
  {
   "cell_type": "markdown",
   "metadata": {},
   "source": [
    "Visualize the results. Change n to see different combinations of reactants, transition states, and products. Note that, for the TS, rdkit will add bonds based on the reactant. We'll clean this to only include common bonds between reactants and products"
   ]
  },
  {
   "cell_type": "code",
   "execution_count": 160,
   "metadata": {},
   "outputs": [],
   "source": [
    "def clean_ts(mols):\n",
    "    \n",
    "    r_mol, ts_mol, p_mol = mols\n",
    "    r_bonds = [(bond.GetBeginAtomIdx(), bond.GetEndAtomIdx()) for bond in r_mol.GetBonds()]\n",
    "    p_bonds = [(bond.GetBeginAtomIdx(), bond.GetEndAtomIdx()) for bond in p_mol.GetBonds()]\n",
    "    common_bonds = list(set(r_bonds) & set(p_bonds))\n",
    "    \n",
    "    emol = Chem.EditableMol(ts_mol)\n",
    "    for bond in ts_mol.GetBonds():\n",
    "        bond_idxs = (bond.GetBeginAtomIdx(), bond.GetEndAtomIdx())\n",
    "        if bond_idxs not in common_bonds:\n",
    "            emol.RemoveBond(bond_idxs[0], bond_idxs[1])\n",
    "            emol.AddBond(bond_idxs[0], bond_idxs[1])\n",
    "    return r_mol, emol.GetMol(), p_mol\n",
    "\n",
    "\n",
    "def show_mol(mol, view, grid):\n",
    "    mb = Chem.MolToMolBlock(mol)\n",
    "    view.removeAllModels(viewer=grid)\n",
    "    view.addModel(mb,'sdf', viewer=grid)\n",
    "    view.setStyle({'model':0},{'stick': {}}, viewer=grid)\n",
    "    view.zoomTo(viewer=grid)\n",
    "    return view"
   ]
  },
  {
   "cell_type": "code",
   "execution_count": 164,
   "metadata": {},
   "outputs": [
    {
     "data": {
      "application/3dmoljs_load.v0": "<div id=\"3dmolviewer_160157064592\"  style=\"position: relative; width: 960px; height: 500px\">\n        <p id=\"3dmolwarning_160157064592\" style=\"background-color:#ffcccc;color:black\">You appear to be running in JupyterLab (or JavaScript failed to load for some other reason).  You need to install the 3dmol extension: <br>\n        <tt>jupyter labextension install jupyterlab_3dmol</tt></p>\n        </div>\n<script>\n\nvar loadScriptAsync = function(uri){\n  return new Promise((resolve, reject) => {\n    var tag = document.createElement('script');\n    tag.src = uri;\n    tag.async = true;\n    tag.onload = () => {\n      resolve();\n    };\n  var firstScriptTag = document.getElementsByTagName('script')[0];\n  firstScriptTag.parentNode.insertBefore(tag, firstScriptTag);\n});\n};\n\nif(typeof $3Dmolpromise === 'undefined') {\n$3Dmolpromise = null;\n  $3Dmolpromise = loadScriptAsync('https://3dmol.csb.pitt.edu/build/3Dmol.js');\n}\n\nvar viewer_160157064592 = null;\nvar warn = document.getElementById(\"3dmolwarning_160157064592\");\nif(warn) {\n    warn.parentNode.removeChild(warn);\n}\n$3Dmolpromise.then(function() {\nvar viewergrid_160157064592 = null;\nviewergrid_160157064592 = $3Dmol.createViewerGrid($(\"#3dmolviewer_160157064592\"),{rows: 1, cols: 3, control_all: false},{backgroundColor:\"white\"});\nviewer_160157064592 = viewergrid_160157064592[0][0];\n\tviewergrid_160157064592[0][0].removeAllModels();\n\tviewergrid_160157064592[0][0].addModel(\"[O:1]=[C:2]1[C:3]([H:8])([H:9])[O:4][C@@:5]2([H:10])[C:6]([H:11])([H:12])[C@@:7]12[H:13]\\n     RDKit          3D\\n\\n 13 14  0  0  1  0  0  0  0  0999 V2000\\n    1.1794    2.0286    0.7461 O   0  0  0  0  0  0  0  0  0  0  0  0\\n    0.7142    1.0208    0.2899 C   0  0  0  0  0  0  0  0  0  0  0  0\\n    1.5140   -0.2194   -0.1032 C   0  0  0  0  0  0  0  0  0  0  0  0\\n    0.6581   -1.0473   -0.8654 O   0  0  0  0  0  0  0  0  0  0  0  0\\n   -0.6594   -0.5750   -0.7731 C   0  0  1  0  0  0  0  0  0  0  0  0\\n   -1.2687   -0.5250    0.5747 C   0  0  0  0  0  0  0  0  0  0  0  0\\n   -0.7028    0.7426   -0.0561 C   0  0  1  0  0  0  0  0  0  0  0  0\\n    1.8728   -0.7310    0.7971 H   0  0  0  0  0  0  0  0  0  0  0  0\\n    2.3794    0.0679   -0.7029 H   0  0  0  0  0  0  0  0  0  0  0  0\\n   -1.2466   -0.7883   -1.6551 H   0  0  0  0  0  0  0  0  0  0  0  0\\n   -0.7374   -0.9753    1.4037 H   0  0  0  0  0  0  0  0  0  0  0  0\\n   -2.3470   -0.5644    0.6486 H   0  0  0  0  0  0  0  0  0  0  0  0\\n   -1.3560    1.5658   -0.3043 H   0  0  0  0  0  0  0  0  0  0  0  0\\n  2  1  2  0\\n  3  2  1  0\\n  3  8  1  0\\n  4  5  1  0\\n  4  3  1  0\\n  5  7  1  0\\n  5  6  1  0\\n  6 12  1  0\\n  6 11  1  0\\n  7 13  1  6\\n  7  2  1  0\\n  7  6  1  0\\n  9  3  1  0\\n  5 10  1  6\\nM  END\\n\",\"sdf\");\n\tviewergrid_160157064592[0][0].setStyle({\"model\": 0},{\"stick\": {}});\n\tviewergrid_160157064592[0][0].zoomTo();\n\tviewergrid_160157064592[0][1].removeAllModels();\n\tviewergrid_160157064592[0][1].addModel(\"[O:1]=[C:2]1[C:3]([H:8])([H:9])[O:4][C@@:5]2([H:10])[C:6]([H:11])([H:12])[C@@:7]12[H:13]\\n     RDKit          3D\\n\\n 13 14  0  0  1  0  0  0  0  0999 V2000\\n    2.0882    1.1733   -0.2138 O   0  0  0  0  0  0  0  0  0  0  0  0\\n    1.0306    0.5043    0.0027 C   0  0  0  0  0  0  0  0  0  0  0  0\\n    1.0978   -0.7818   -0.6551 C   0  0  0  0  0  0  0  0  0  0  0  0\\n   -0.1632   -1.1805   -1.0022 O   0  0  0  0  0  0  0  0  0  0  0  0\\n   -1.1019   -0.2363   -0.4342 C   0  0  1  0  0  0  0  0  0  0  0  0\\n   -1.1383   -0.1204    1.0149 C   0  0  0  0  0  0  0  0  0  0  0  0\\n   -0.3848    0.8839    0.2109 C   0  0  1  0  0  0  0  0  0  0  0  0\\n    1.6954   -1.5397   -0.0966 H   0  0  0  0  0  0  0  0  0  0  0  0\\n    2.2034    0.1267   -1.0842 H   0  0  0  0  0  0  0  0  0  0  0  0\\n   -1.9918   -0.1643   -1.0491 H   0  0  0  0  0  0  0  0  0  0  0  0\\n   -0.5994   -0.8344    1.6257 H   0  0  0  0  0  0  0  0  0  0  0  0\\n   -2.0742    0.2275    1.4721 H   0  0  0  0  0  0  0  0  0  0  0  0\\n   -0.6618    1.9417    0.2090 H   0  0  0  0  0  0  0  0  0  0  0  0\\n  2  1  2  0\\n  3  2  1  0\\n  3  8  1  0\\n  4  5  1  0\\n  4  3  1  0\\n  5  7  1  0\\n  5  6  1  0\\n  6 12  1  0\\n  6 11  1  0\\n  7 13  1  6\\n  7  2  1  0\\n  7  6  1  0\\n  5 10  1  6\\n  9  3  0  0\\nM  END\\n\",\"sdf\");\n\tviewergrid_160157064592[0][1].setStyle({\"model\": 0},{\"stick\": {}});\n\tviewergrid_160157064592[0][1].zoomTo();\n\tviewergrid_160157064592[0][2].removeAllModels();\n\tviewergrid_160157064592[0][2].addModel(\"[O:1]([C:2]1=[C:3]([H:8])[O:4][C@@:5]2([H:10])[C:6]([H:11])([H:12])[C@@:7]12[H:13])[H:9]\\n     RDKit          3D\\n\\n 13 14  0  0  1  0  0  0  0  0999 V2000\\n    1.4077    1.7932    0.5271 O   0  0  0  0  0  0  0  0  0  0  0  0\\n    0.8285    0.6504    0.0805 C   0  0  0  0  0  0  0  0  0  0  0  0\\n    1.3511   -0.5510   -0.1635 C   0  0  0  0  0  0  0  0  0  0  0  0\\n    0.4372   -1.4463   -0.6760 O   0  0  0  0  0  0  0  0  0  0  0  0\\n   -0.8081   -0.7957   -0.6735 C   0  0  1  0  0  0  0  0  0  0  0  0\\n   -1.3971   -0.3737    0.6297 C   0  0  0  0  0  0  0  0  0  0  0  0\\n   -0.6217    0.6259   -0.2016 C   0  0  1  0  0  0  0  0  0  0  0  0\\n    2.3534   -0.9277   -0.0292 H   0  0  0  0  0  0  0  0  0  0  0  0\\n    2.3620    1.6943    0.5217 H   0  0  0  0  0  0  0  0  0  0  0  0\\n   -1.4410   -1.0921   -1.4982 H   0  0  0  0  0  0  0  0  0  0  0  0\\n   -0.9457   -0.7242    1.5486 H   0  0  0  0  0  0  0  0  0  0  0  0\\n   -2.4739   -0.2698    0.6454 H   0  0  0  0  0  0  0  0  0  0  0  0\\n   -1.1046    1.4896   -0.6393 H   0  0  0  0  0  0  0  0  0  0  0  0\\n  2  1  1  0\\n  3  8  1  0\\n  3  2  2  0\\n  4  5  1  0\\n  4  3  1  0\\n  5  7  1  0\\n  5  6  1  0\\n  6 12  1  0\\n  6 11  1  0\\n  7 13  1  6\\n  7  2  1  0\\n  7  6  1  0\\n  9  1  1  0\\n  5 10  1  6\\nM  END\\n\",\"sdf\");\n\tviewergrid_160157064592[0][2].setStyle({\"model\": 0},{\"stick\": {}});\n\tviewergrid_160157064592[0][2].zoomTo();\n\tviewergrid_160157064592[0][0].render();\n\tviewergrid_160157064592[0][1].render();\n\tviewergrid_160157064592[0][2].render();\nviewergrid_160157064592[0][2].render();\nviewergrid_160157064592[0][1].render();\nviewergrid_160157064592[0][0].render();\n});\n</script>",
      "text/html": [
       "<div id=\"3dmolviewer_160157064592\"  style=\"position: relative; width: 960px; height: 500px\">\n",
       "        <p id=\"3dmolwarning_160157064592\" style=\"background-color:#ffcccc;color:black\">You appear to be running in JupyterLab (or JavaScript failed to load for some other reason).  You need to install the 3dmol extension: <br>\n",
       "        <tt>jupyter labextension install jupyterlab_3dmol</tt></p>\n",
       "        </div>\n",
       "<script>\n",
       "\n",
       "var loadScriptAsync = function(uri){\n",
       "  return new Promise((resolve, reject) => {\n",
       "    var tag = document.createElement('script');\n",
       "    tag.src = uri;\n",
       "    tag.async = true;\n",
       "    tag.onload = () => {\n",
       "      resolve();\n",
       "    };\n",
       "  var firstScriptTag = document.getElementsByTagName('script')[0];\n",
       "  firstScriptTag.parentNode.insertBefore(tag, firstScriptTag);\n",
       "});\n",
       "};\n",
       "\n",
       "if(typeof $3Dmolpromise === 'undefined') {\n",
       "$3Dmolpromise = null;\n",
       "  $3Dmolpromise = loadScriptAsync('https://3dmol.csb.pitt.edu/build/3Dmol.js');\n",
       "}\n",
       "\n",
       "var viewer_160157064592 = null;\n",
       "var warn = document.getElementById(\"3dmolwarning_160157064592\");\n",
       "if(warn) {\n",
       "    warn.parentNode.removeChild(warn);\n",
       "}\n",
       "$3Dmolpromise.then(function() {\n",
       "var viewergrid_160157064592 = null;\n",
       "viewergrid_160157064592 = $3Dmol.createViewerGrid($(\"#3dmolviewer_160157064592\"),{rows: 1, cols: 3, control_all: false},{backgroundColor:\"white\"});\n",
       "viewer_160157064592 = viewergrid_160157064592[0][0];\n",
       "\tviewergrid_160157064592[0][0].removeAllModels();\n",
       "\tviewergrid_160157064592[0][0].addModel(\"[O:1]=[C:2]1[C:3]([H:8])([H:9])[O:4][C@@:5]2([H:10])[C:6]([H:11])([H:12])[C@@:7]12[H:13]\\n     RDKit          3D\\n\\n 13 14  0  0  1  0  0  0  0  0999 V2000\\n    1.1794    2.0286    0.7461 O   0  0  0  0  0  0  0  0  0  0  0  0\\n    0.7142    1.0208    0.2899 C   0  0  0  0  0  0  0  0  0  0  0  0\\n    1.5140   -0.2194   -0.1032 C   0  0  0  0  0  0  0  0  0  0  0  0\\n    0.6581   -1.0473   -0.8654 O   0  0  0  0  0  0  0  0  0  0  0  0\\n   -0.6594   -0.5750   -0.7731 C   0  0  1  0  0  0  0  0  0  0  0  0\\n   -1.2687   -0.5250    0.5747 C   0  0  0  0  0  0  0  0  0  0  0  0\\n   -0.7028    0.7426   -0.0561 C   0  0  1  0  0  0  0  0  0  0  0  0\\n    1.8728   -0.7310    0.7971 H   0  0  0  0  0  0  0  0  0  0  0  0\\n    2.3794    0.0679   -0.7029 H   0  0  0  0  0  0  0  0  0  0  0  0\\n   -1.2466   -0.7883   -1.6551 H   0  0  0  0  0  0  0  0  0  0  0  0\\n   -0.7374   -0.9753    1.4037 H   0  0  0  0  0  0  0  0  0  0  0  0\\n   -2.3470   -0.5644    0.6486 H   0  0  0  0  0  0  0  0  0  0  0  0\\n   -1.3560    1.5658   -0.3043 H   0  0  0  0  0  0  0  0  0  0  0  0\\n  2  1  2  0\\n  3  2  1  0\\n  3  8  1  0\\n  4  5  1  0\\n  4  3  1  0\\n  5  7  1  0\\n  5  6  1  0\\n  6 12  1  0\\n  6 11  1  0\\n  7 13  1  6\\n  7  2  1  0\\n  7  6  1  0\\n  9  3  1  0\\n  5 10  1  6\\nM  END\\n\",\"sdf\");\n",
       "\tviewergrid_160157064592[0][0].setStyle({\"model\": 0},{\"stick\": {}});\n",
       "\tviewergrid_160157064592[0][0].zoomTo();\n",
       "\tviewergrid_160157064592[0][1].removeAllModels();\n",
       "\tviewergrid_160157064592[0][1].addModel(\"[O:1]=[C:2]1[C:3]([H:8])([H:9])[O:4][C@@:5]2([H:10])[C:6]([H:11])([H:12])[C@@:7]12[H:13]\\n     RDKit          3D\\n\\n 13 14  0  0  1  0  0  0  0  0999 V2000\\n    2.0882    1.1733   -0.2138 O   0  0  0  0  0  0  0  0  0  0  0  0\\n    1.0306    0.5043    0.0027 C   0  0  0  0  0  0  0  0  0  0  0  0\\n    1.0978   -0.7818   -0.6551 C   0  0  0  0  0  0  0  0  0  0  0  0\\n   -0.1632   -1.1805   -1.0022 O   0  0  0  0  0  0  0  0  0  0  0  0\\n   -1.1019   -0.2363   -0.4342 C   0  0  1  0  0  0  0  0  0  0  0  0\\n   -1.1383   -0.1204    1.0149 C   0  0  0  0  0  0  0  0  0  0  0  0\\n   -0.3848    0.8839    0.2109 C   0  0  1  0  0  0  0  0  0  0  0  0\\n    1.6954   -1.5397   -0.0966 H   0  0  0  0  0  0  0  0  0  0  0  0\\n    2.2034    0.1267   -1.0842 H   0  0  0  0  0  0  0  0  0  0  0  0\\n   -1.9918   -0.1643   -1.0491 H   0  0  0  0  0  0  0  0  0  0  0  0\\n   -0.5994   -0.8344    1.6257 H   0  0  0  0  0  0  0  0  0  0  0  0\\n   -2.0742    0.2275    1.4721 H   0  0  0  0  0  0  0  0  0  0  0  0\\n   -0.6618    1.9417    0.2090 H   0  0  0  0  0  0  0  0  0  0  0  0\\n  2  1  2  0\\n  3  2  1  0\\n  3  8  1  0\\n  4  5  1  0\\n  4  3  1  0\\n  5  7  1  0\\n  5  6  1  0\\n  6 12  1  0\\n  6 11  1  0\\n  7 13  1  6\\n  7  2  1  0\\n  7  6  1  0\\n  5 10  1  6\\n  9  3  0  0\\nM  END\\n\",\"sdf\");\n",
       "\tviewergrid_160157064592[0][1].setStyle({\"model\": 0},{\"stick\": {}});\n",
       "\tviewergrid_160157064592[0][1].zoomTo();\n",
       "\tviewergrid_160157064592[0][2].removeAllModels();\n",
       "\tviewergrid_160157064592[0][2].addModel(\"[O:1]([C:2]1=[C:3]([H:8])[O:4][C@@:5]2([H:10])[C:6]([H:11])([H:12])[C@@:7]12[H:13])[H:9]\\n     RDKit          3D\\n\\n 13 14  0  0  1  0  0  0  0  0999 V2000\\n    1.4077    1.7932    0.5271 O   0  0  0  0  0  0  0  0  0  0  0  0\\n    0.8285    0.6504    0.0805 C   0  0  0  0  0  0  0  0  0  0  0  0\\n    1.3511   -0.5510   -0.1635 C   0  0  0  0  0  0  0  0  0  0  0  0\\n    0.4372   -1.4463   -0.6760 O   0  0  0  0  0  0  0  0  0  0  0  0\\n   -0.8081   -0.7957   -0.6735 C   0  0  1  0  0  0  0  0  0  0  0  0\\n   -1.3971   -0.3737    0.6297 C   0  0  0  0  0  0  0  0  0  0  0  0\\n   -0.6217    0.6259   -0.2016 C   0  0  1  0  0  0  0  0  0  0  0  0\\n    2.3534   -0.9277   -0.0292 H   0  0  0  0  0  0  0  0  0  0  0  0\\n    2.3620    1.6943    0.5217 H   0  0  0  0  0  0  0  0  0  0  0  0\\n   -1.4410   -1.0921   -1.4982 H   0  0  0  0  0  0  0  0  0  0  0  0\\n   -0.9457   -0.7242    1.5486 H   0  0  0  0  0  0  0  0  0  0  0  0\\n   -2.4739   -0.2698    0.6454 H   0  0  0  0  0  0  0  0  0  0  0  0\\n   -1.1046    1.4896   -0.6393 H   0  0  0  0  0  0  0  0  0  0  0  0\\n  2  1  1  0\\n  3  8  1  0\\n  3  2  2  0\\n  4  5  1  0\\n  4  3  1  0\\n  5  7  1  0\\n  5  6  1  0\\n  6 12  1  0\\n  6 11  1  0\\n  7 13  1  6\\n  7  2  1  0\\n  7  6  1  0\\n  9  1  1  0\\n  5 10  1  6\\nM  END\\n\",\"sdf\");\n",
       "\tviewergrid_160157064592[0][2].setStyle({\"model\": 0},{\"stick\": {}});\n",
       "\tviewergrid_160157064592[0][2].zoomTo();\n",
       "\tviewergrid_160157064592[0][0].render();\n",
       "\tviewergrid_160157064592[0][1].render();\n",
       "\tviewergrid_160157064592[0][2].render();\n",
       "viewergrid_160157064592[0][2].render();\n",
       "viewergrid_160157064592[0][1].render();\n",
       "viewergrid_160157064592[0][0].render();\n",
       "});\n",
       "</script>"
      ]
     },
     "metadata": {},
     "output_type": "display_data"
    },
    {
     "data": {
      "text/plain": [
       "<py3Dmol.view at 0x7f459409f850>"
      ]
     },
     "execution_count": 164,
     "metadata": {},
     "output_type": "execute_result"
    }
   ],
   "source": [
    "n=4\n",
    "mols = [test_data[n][0], ts_mols[n], test_data[n][1]]\n",
    "view_mols = clean_ts(mols)\n",
    "\n",
    "view = py3Dmol.view(width=960, height=500, linked=False, viewergrid=(1,3))\n",
    "for i in range(3):\n",
    "    show_mol(view_mols[i], view, grid=(0, i))\n",
    "view.render()"
   ]
  },
  {
   "cell_type": "code",
   "execution_count": null,
   "metadata": {},
   "outputs": [],
   "source": []
  }
 ],
 "metadata": {
  "kernelspec": {
   "display_name": "Python 2",
   "language": "python",
   "name": "python2"
  },
  "language_info": {
   "codemirror_mode": {
    "name": "ipython",
    "version": 2
   },
   "file_extension": ".py",
   "mimetype": "text/x-python",
   "name": "python",
   "nbconvert_exporter": "python",
   "pygments_lexer": "ipython2",
   "version": "2.7.16"
  }
 },
 "nbformat": 4,
 "nbformat_minor": 2
}
